{
 "cells": [
  {
   "cell_type": "code",
   "execution_count": null,
   "metadata": {},
   "outputs": [
    {
     "name": "stdout",
     "output_type": "stream",
     "text": [
      "getting next page: https://www.loc.gov/collections/clara-barton-papers/?at=results,pagination&c=25&fo=json&sp=2\n"
     ]
    }
   ],
   "source": [
    "import requests\n",
    "import os\n",
    "from urllib.parse import urlparse\n",
    "\n",
    "base_url = 'https://www.loc.gov/collections/clara-barton-papers'\n",
    "images_folder = 'clara-barton-papers'\n",
    "\n",
    "\n",
    "def write_image_file(image, filename):\n",
    "    # request the image and write to path\n",
    "    image_response = requests.get(image, stream=True)\n",
    "    with open(filename, 'wb') as fd:\n",
    "        for chunk in image_response.iter_content(chunk_size=100000):\n",
    "            fd.write(chunk)\n",
    "\n",
    "\n",
    "def get_item_images(item_url, path):\n",
    "    # Retrieve the item.\n",
    "    params = {\"fo\": \"json\"}\n",
    "    item_call = requests.get(item_url, params)\n",
    "    item_result = item_call.json()\n",
    "    image_files = item_result.get(\"resources\")[0]\n",
    "\n",
    "    # Loop through all images in this item and save them all to the folder\n",
    "    counter = 1    \n",
    "    for item_image in image_files.get(\"files\"):\n",
    "        image = item_image[-2].get(\"url\")\n",
    "        \n",
    "        # create a filename that's the image number\n",
    "        filename = \"{0}.jpg\".format(counter)\n",
    "        filename = os.path.join(path, filename)        \n",
    "        write_image_file(image, filename)\n",
    "        counter = counter + 1\n",
    "\n",
    "\n",
    "def get_and_save_images(results_url, path):\n",
    "    '''\n",
    "    Takes as input the url for the collection or results set\n",
    "    e.g. https://www.loc.gov/collections/baseball-cards\n",
    "    and a list of items (used for pagination)\n",
    "    '''\n",
    "    params = {\"fo\": \"json\", \"c\": 25, \"at\": \"results,pagination\"}\n",
    "    call = requests.get(results_url, params=params)\n",
    "    data = call.json()\n",
    "    results = data['results']\n",
    "    for result in results:\n",
    "        # don't try to get images from the collection-level result or web page results\n",
    "        if \"collection\" not in result.get(\"original_format\") \\\n",
    "            and \"web page\" not in result.get(\"original_format\"):\n",
    "\n",
    "            if result.get(\"image_url\") and result.get(\"id\"):                \n",
    "                identifier = urlparse(result[\"id\"])[2].rstrip('/')\n",
    "                identifier = identifier.split('/')[-1]\n",
    "                \n",
    "                if (not result.get(\"hassegments\") or result.get(\"hassegments\")==False):\n",
    "                    image = \"https:\" + result.get(\"image_url\")[-1]\n",
    "                    # create a filename that's the identifier portion of the item URL\n",
    "                    filename = \"{0}.jpg\".format(identifier)\n",
    "                    filename = os.path.join(path, filename)\n",
    "\n",
    "                    write_image_file(image, filename)\n",
    "                else:\n",
    "                    dest_folder = os.path.join(path, identifier)\n",
    "                    if not os.path.exists(dest_folder):\n",
    "                        os.makedirs(dest_folder)\n",
    "                    get_item_images(result.get(\"id\"), dest_folder)\n",
    "\n",
    "    if data[\"pagination\"][\"next\"] is not None: # make sure we haven't hit the end of the pages\n",
    "        next_url = data[\"pagination\"][\"next\"]\n",
    "        print(\"getting next page: {0}\".format(next_url))\n",
    "        get_and_save_images(next_url, path)\n",
    "\n",
    "get_and_save_images(base_url, images_folder)\n"
   ]
  },
  {
   "cell_type": "code",
   "execution_count": null,
   "metadata": {},
   "outputs": [],
   "source": []
  },
  {
   "cell_type": "code",
   "execution_count": null,
   "metadata": {},
   "outputs": [],
   "source": []
  }
 ],
 "metadata": {
  "kernelspec": {
   "display_name": "Python 3",
   "language": "python",
   "name": "python3"
  },
  "language_info": {
   "codemirror_mode": {
    "name": "ipython",
    "version": 3
   },
   "file_extension": ".py",
   "mimetype": "text/x-python",
   "name": "python",
   "nbconvert_exporter": "python",
   "pygments_lexer": "ipython3",
   "version": "3.6.4"
  }
 },
 "nbformat": 4,
 "nbformat_minor": 2
}
