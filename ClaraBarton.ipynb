{
 "cells": [
  {
   "cell_type": "code",
   "execution_count": null,
   "metadata": {},
   "outputs": [],
   "source": [
    "import requests\n",
    "import os\n",
    "from urllib.parse import urlparse\n",
    "\n",
    "base_url = 'https://www.loc.gov/collections/clara-barton-papers'\n",
    "images_folder = 'clara-barton-papers'\n",
    "\n",
    "\n",
    "def write_image_file(image, filename):\n",
    "    # request the image and write to path\n",
    "    image_response = requests.get(image, stream=True)\n",
    "    with open(filename, 'wb') as fd:\n",
    "        for chunk in image_response.iter_content(chunk_size=100000):\n",
    "            fd.write(chunk)\n",
    "\n",
    "\n",
    "def get_item_images(item_url, path):\n",
    "    params = {\"fo\": \"json\"}\n",
    "    item_call = requests.get(item_url, params)\n",
    "    item_result = item_call.json()\n",
    "    \n",
    "    # Retrieve the item.\n",
    "    image_files = item_result.get(\"resources\")[0]\n",
    "\n",
    "    counter = 1    \n",
    "    # Loop through all images in this item and save them all to the folder\n",
    "    for item_image in image_files.get(\"files\"):\n",
    "        image = item_image[-2].get(\"url\")\n",
    "        \n",
    "        # create a filename that's the image number\n",
    "        filename = \"{0}.jpg\".format(counter)\n",
    "        filename = os.path.join(path, filename)        \n",
    "        write_image_file(image, filename)\n",
    "        counter = counter + 1\n",
    "\n",
    "\n",
    "def get_and_save_images(results_url, path):\n",
    "    '''\n",
    "    Takes as input the url for the collection or results set\n",
    "    e.g. https://www.loc.gov/collections/baseball-cards\n",
    "    and a list of items (used for pagination)\n",
    "    '''\n",
    "    params = {\"fo\": \"json\", \"c\": 25, \"at\": \"results,pagination\"}\n",
    "    call = requests.get(results_url, params=params)\n",
    "    data = call.json()\n",
    "    results = data['results']\n",
    "    for result in results:\n",
    "        # don't try to get images from the collection-level result or web page results\n",
    "        if \"collection\" not in result.get(\"original_format\") \\\n",
    "            and \"web page\" not in result.get(\"original_format\"):\n",
    "\n",
    "            if result.get(\"image_url\") and result.get(\"id\"):                \n",
    "                identifier = urlparse(result[\"id\"])[2].rstrip('/')\n",
    "                identifier = identifier.split('/')[-1]\n",
    "                \n",
    "                if (not result.get(\"hassegments\") or result.get(\"hassegments\")==False):\n",
    "                    image = \"https:\" + result.get(\"image_url\")[-1]\n",
    "                    # create a filename that's the identifier portion of the item URL\n",
    "                    filename = \"{0}.jpg\".format(identifier)\n",
    "                    filename = os.path.join(path, filename)\n",
    "\n",
    "                    write_image_file(image, filename)\n",
    "                else:\n",
    "                    dest_folder = os.path.join(path, identifier)\n",
    "                    if not os.path.exists(dest_folder):\n",
    "                        os.makedirs(dest_folder)\n",
    "                    get_item_images(result.get(\"id\"), dest_folder)\n",
    "\n",
    "    if data[\"pagination\"][\"next\"] is not None: # make sure we haven't hit the end of the pages\n",
    "        next_url = data[\"pagination\"][\"next\"]\n",
    "        print(\"getting next page: {0}\".format(next_url))\n",
    "        get_and_save_images(next_url, path)\n",
    "\n",
    "get_and_save_images(base_url, images_folder)\n"
   ]
  },
  {
   "cell_type": "code",
   "execution_count": 7,
   "metadata": {},
   "outputs": [
    {
     "name": "stdout",
     "output_type": "stream",
     "text": [
      "{'source_collection': 'Clara Barton papers, 1805-1958', 'display_offsite': True, 'contributors': [{'barton, clara': 'https://www.loc.gov/search/?fa=contributor:barton,+clara&fo=json'}], 'access_restricted': False, 'site': [], 'original_format': ['manuscript/mixed material'], 'genre': ['Manuscripts'], 'subject_headings': ['Manuscripts'], 'created_published': ['1849'], 'extract_urls': ['http://hdl.loc.gov/loc.mss/ms005010.mss11973.0001#mss11973'], 'id': 'http://www.loc.gov/item/mss119730001/', 'partof': [{'count': 69, 'url': 'https://www.loc.gov/search/?fa=partof:clara+barton+papers:++diaries+and+journals,+1849-1911&fo=json', 'title': 'clara barton papers:  diaries and journals, 1849-1911'}, {'count': 935, 'url': 'https://www.loc.gov/collections/clara-barton-papers/?fo=json', 'title': 'clara barton papers'}, {'count': 142627, 'url': 'https://www.loc.gov/search/?fa=partof:manuscript+division&fo=json', 'title': 'manuscript division'}], 'subject': ['manuscripts'], 'index': 1, 'digital_id': ['http://hdl.loc.gov/loc.mss/ms005010.mss11973.0001'], 'call_number': ['MSS11973, box: 1; Microfilm reel: 1', 'series: Diaries and Journals, 1849-1911'], 'group': ['mss11973', 'clara-barton-papers'], 'score': 12.050063, 'title': 'Clara Barton Papers: Diaries and Journals: 1849, Jan. 23-Nov. 5 (includes poems)', 'related_items': [{'url': 'http://hdl.loc.gov/loc.mss/ms005010.mss11973.0001_bak', 'title': 'View Clara Barton Papers Finding Aid'}], 'online_format': ['image'], 'subjects': [{'manuscripts': 'https://www.loc.gov/search/?fa=subject:manuscripts&fo=json'}], 'location': [], '_version_': 1572191340840615936, 'type': ['manuscript/mixed material'], 'mime_type': ['image/gif', 'image/tiff', 'image/jpeg', 'image/jp2'], 'digitized': True, 'medium': [], 'repository': ['Manuscript Division'], 'format': [{'manuscript/mixed material': 'https://www.loc.gov/search/?fa=original_format:manuscript/mixed+material&fo=json'}], 'timestamp': '2017-07-06T16:28:22.234Z', 'campaigns': [], 'extract_timestamp': '2017-07-06T16:27:01.946Z', 'date': '1849-01-23', 'shelf_id': 'mss119730001', 'other_title': [], 'dates': [{'1849': 'https://www.loc.gov/search/?dates=1849/1849&fo=json'}], 'language': [{'english': 'https://www.loc.gov/search/?fa=language:english&fo=json'}], 'rights': ['<p>\\n\\tThe Library of Congress provides access to these materials   for educational and research purposes and makes no warranty with regard   to their use for other purposes. The written permission of the copyright   owners and/or holders of other rights (such as publicity and/or privacy   rights) is required for distribution, reproduction, or other use of   protected items beyond that allowed by fair use or other statutory   exemptions. There may be content that is protected as \"works made for   hire\" (copyright held by the party that commissioned the original work)   and/or under the copyright or neighboring-rights laws of other nations.   Responsibility for making an independent legal assessment of an item and   securing any necessary permissions ultimately rests with persons   desiring to use the item. See <a href=\"/legal/\">Legal Notices</a> and <a href=\"/legal/#privacy_publicity\">Privacy and Publicity Rights</a> for additional information and restrictions.\\n</p>\\n\\n<p>\\n\\tThe Library of Congress would like to learn more about these   materials and to hear from individuals or institutions having any   additional information. Please contact us through our <a href=\"//www.loc.gov/rr/askalib/\">Ask A Librarian</a> service.\\n</p>\\n\\n<h2>Preferred Citation</h2>\\n\\n<p>\\n\\tResearchers wishing to cite this collection should include the following information:\\n\\t<br />\\n\\t<em>Clara Barton Papers</em>, Manuscript Division, Library of Congress, Washington, D.C.\\n</p>\\n\\n\\n<h2>Availability of Reproductions</h2>\\n\\n<p>\\n\\tTo inquire about reproductions of Manuscript Division items found in American Memory, contact the Library of Congress <a href=\"//www.loc.gov/preserv/pds/\">Duplication Services</a>.\\n</p>\\n\\n\\n'], 'url': 'https://www.loc.gov/item/mss119730001/', 'notes': [], 'hassegments': True, 'image_url': ['//cdn.loc.gov/service/mss/mss11973/001/0000/0027t.gif', '//cdn.loc.gov/service/mss/mss11973/001/0000/0027t.gif#h=150&w=182', '//tile.loc.gov/image-services/iiif/service:mss:mss11973:001:0000:0027/full/pct:6.25/0/default.jpg#h=226&w=275', '//tile.loc.gov/image-services/iiif/service:mss:mss11973:001:0000:0027/full/pct:12.5/0/default.jpg#h=453&w=551', '//tile.loc.gov/image-services/iiif/service:mss:mss11973:001:0000:0027/full/pct:25/0/default.jpg#h=907&w=1103', '//tile.loc.gov/image-services/iiif/service:mss:mss11973:001:0000:0027/full/pct:50/0/default.jpg#h=1815&w=2206', '//cdn.loc.gov/service/mss/mss11973/001/0000/0027.jpg#h=3630&w=4413'], 'other_formats': [], 'aka': ['http://www.loc.gov/item/mss119730001/', 'http://hdl.loc.gov/loc.mss/ms005010.mss11973.0001', 'http://www.loc.gov/resource/mss11973.001_0027_0078/', 'http://www.loc.gov/item/mss11973.001_0027_0078/'], 'contributor_names': ['Barton, Clara, 1821-1912.', 'Barton, Clara, 1821-1912.']}\n"
     ]
    }
   ],
   "source": []
  },
  {
   "cell_type": "code",
   "execution_count": null,
   "metadata": {},
   "outputs": [],
   "source": []
  }
 ],
 "metadata": {
  "kernelspec": {
   "display_name": "Python 3",
   "language": "python",
   "name": "python3"
  },
  "language_info": {
   "codemirror_mode": {
    "name": "ipython",
    "version": 3
   },
   "file_extension": ".py",
   "mimetype": "text/x-python",
   "name": "python",
   "nbconvert_exporter": "python",
   "pygments_lexer": "ipython3",
   "version": "3.6.4"
  }
 },
 "nbformat": 4,
 "nbformat_minor": 2
}
